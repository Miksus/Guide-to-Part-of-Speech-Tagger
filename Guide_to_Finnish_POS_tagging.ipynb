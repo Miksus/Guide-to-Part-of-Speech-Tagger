{
 "cells": [
  {
   "cell_type": "markdown",
   "metadata": {},
   "source": [
    "<br> \n",
    "<br> \n",
    "<br> \n",
    "# Finnish Part of Speech Tagger (POS), End to End Guide\n",
    "\n",
    "Date: 20.08.2018\n",
    "<br>Author: Mikael Koli\n"
   ]
  },
  {
   "cell_type": "markdown",
   "metadata": {},
   "source": [
    "## Introduction <a class=\"anchor\" id=\"H1\"></a>\n",
    "Couple of months ago I got my hands on a data set of stock news headers. My intention was to test hypothesis from behavioral finance on Finnish stock markets. I thought I could try a machine learning algorithm on the problem but I was not satisfied with the simple bag-of-words approaches. It felt that these models only memorize the occurences of each word and do not really know anything else about these words. I wanted the model at least to know the functions of each word in a sentence, and for this I needed a Part of Speech tagger (POS). I have never been particularly interested in linguistics but suddenly when it was framed as a data problem, I was in.\n",
    "\n",
    "So I started searching if there were any existing POS taggers. Even though the most widely used Natural Language Processing (NLP) library for Python, NLTK, does have extensive support for Finnish (for example stemmer, stopword list and some corpus), there were no Finnish POS taggers nor POS tagged corpus. The most promising lead I found was NLP hackers' tutorial (https://nlpforhackers.io/training-pos-tagger/) which had some awesome code examples in it. I found the list of features and way to extract them interesting, though, I was sceptical how these features would play out on Finnish text. \n",
    "\n",
    "But now when I had general understanding of the model for the job, I still needed some fuel for my tagger: labeled sentences. It turned out that University of Helsinki had some tagged sentences available but the problem was that there were limited amount of documentation available for the data they had. In this guide I will go through my learning process and show you how you can make your own POS tagger from scratch providing all the code you need. Even though the language here is Finnish, the process of building a good tagger should be similar regardless of language. We will also go through how to tweak the tagger and do diagnostics on it.\n",
    "\n",
    "You can freely use the code in this notebook but I would highly appreciate acknowledgement if you do so. You can also find my current version of the project from my Github: https://github.com/Miksus/Syntags\n",
    "\n",
    "In case you are just interested in the project itself, I would suggest to just skip the code blocks or even jump directly to the section [Problem Framing](#H7).\n",
    "\n",
    "\n",
    "## Navigation:\n",
    "* [Introduction](#H1)\n",
    "* [Setup](#H2)\n",
    "* [Hands on with the data](#H3)\n",
    "* [Structuring the data](#H4)\n",
    "* [Analysis of Input](#H5)\n",
    "* [Analysis of Labels](#H6)\n",
    "* [Problem Framing](#H7)\n",
    "* [Modelling](#H8)\n",
    "* [Splitting the data](#H9)\n",
    "* [Transformation and Feature Engineering](#H10)\n",
    "* [Final Evaluation and Conclusion](#H11)"
   ]
  },
  {
   "cell_type": "markdown",
   "metadata": {},
   "source": [
    "## Setup<a class=\"anchor\" id=\"H2\"></a>\n",
    "I use Python 3 with Pandas, Numpy, Matplotlib and Scikit Learn. If you do not have those installed, there are extensive amount of online tutorials how to install them."
   ]
  },
  {
   "cell_type": "code",
   "execution_count": 1,
   "metadata": {},
   "outputs": [
    {
     "name": "stdout",
     "output_type": "stream",
     "text": [
      "Requirements\n",
      "Python version: \t3.5.2 (v3.5.2:4def2a2901a5, Jun 25 2016, 22:18:55) [MSC v.1900 64 bit (AMD64)]\n",
      "Pandas version: \t0.22.0\n",
      "Numpy version:  \t1.15.0\n",
      "Matplotlib version:  \t2.1.0\n",
      "Scikit learn version: \t0.19.2\n"
     ]
    }
   ],
   "source": [
    "# There are some unimportant but\n",
    "# annoying warnings with my current\n",
    "# setup\n",
    "import warnings\n",
    "warnings.filterwarnings('ignore')\n",
    "\n",
    "\n",
    "import sys\n",
    "import pandas as pd\n",
    "import numpy as np\n",
    "import sklearn\n",
    "import matplotlib\n",
    "print('Requirements')\n",
    "print('Python version: \\t{}'.format(sys.version))\n",
    "print('Pandas version: \\t{}'.format(pd.__version__))\n",
    "print('Numpy version:  \\t{}'.format(np.__version__))\n",
    "print('Matplotlib version:  \\t{}'.format(matplotlib.__version__))\n",
    "print('Scikit learn version: \\t{}'.format(sklearn.__version__))\n"
   ]
  },
  {
   "cell_type": "markdown",
   "metadata": {},
   "source": [
    "## Hands on with the data<a class=\"anchor\" id=\"H3\"></a>\n",
    "The data can be found at University of Helsinki's website: http://www.ling.helsinki.fi/kieliteknologia/tutkimus/treebank/sources/.\n",
    "<br>I used the sample file _ftb3.tgz_ which is about 3.7 gigabytes unpacked. The problem is that the file cannot be be inspected with a text editor so we will inspect it with code. For the sake of simplicity, I have taken the first 20 000 sentences as subsample pretending it to be the complete data. \n",
    "\n",
    "Also, the file extension of the actual file is \"conllx\" but that is just for indicating its structure. The file is in plain text."
   ]
  },
  {
   "cell_type": "code",
   "execution_count": 2,
   "metadata": {},
   "outputs": [],
   "source": [
    "file = 'ftb3_subsample.conllx'"
   ]
  },
  {
   "cell_type": "code",
   "execution_count": 3,
   "metadata": {},
   "outputs": [],
   "source": [
    "def inspect_file(filename, n_rows):\n",
    "    \"Return n_rows of the file\"\n",
    "    \n",
    "    cont, n_sents = [], 0\n",
    "    with open(filename, 'r', encoding='utf-8') as f_read:\n",
    "        \n",
    "        for n, row in enumerate(f_read):\n",
    "            cont.append(row)\n",
    "            if n+1 == n_rows:\n",
    "                break\n",
    "                \n",
    "    return '\\n'.join(cont)"
   ]
  },
  {
   "cell_type": "code",
   "execution_count": 4,
   "metadata": {},
   "outputs": [
    {
     "name": "stdout",
     "output_type": "stream",
     "text": [
      "<s><loc file=\"JRC_Acquis Corpus/fi/1958/jrc31958Q1101-fi.xml\" line=\"28,29,30,31,32,33\"/>\n",
      "\n",
      "1\tNEUVOSTO\tneuvosto\tN\tN\tN Nom Sg Cap\t2\tattr\t_\t_\n",
      "\n",
      "2\tEURATOMIN\tEuratom\tN\tN\tN Prop Gen Sg Cap\t3\tattr\t_\t_\n",
      "\n",
      "3\tHANKINTAKESKUKSEN\thankinta#keskus\tN\tN\tN Gen Sg Cap\t4\tattr\t_\t_\n",
      "\n",
      "4\tPERUSSÄÄNTÖ\tperus#sääntö\tN\tN\tN Nom Sg Cap\t7\tattr\t_\t_\n",
      "\n"
     ]
    }
   ],
   "source": [
    "print(inspect_file(file, 5))"
   ]
  },
  {
   "cell_type": "markdown",
   "metadata": {},
   "source": [
    "The file's structure might be confusing at first glance. The first row determines the source of the sentence (beginning of a sentence is marked with \"$<s>$\") and the following rows represent words in a sentence. A sentence ends to a line marked with \"$<\\s>$\" and the numbering on the first column starts from beginning. Tab or _\\t_ is the separator of cells.\n",
    "\n",
    "The table would look like this if properly structured:\n",
    "\n",
    "| Word number | Word     | Base word | Part of Speech | Part of Speech | Morphology   | Relation | Function | Empty | Empty |\n",
    "|-------------|----------|-----------|----------------|----------------|--------------|----------|----------|-------|-------|\n",
    "|   1         | NEUVOSTO | neuvosto  | N              | N              | N Nom Sg Cap | 2        | attr     | -     | -     |\n",
    "|   2         | EURATOMIN| Euratom   | N              | N              | Prop Gen Sg Cap| 3      | attr     | -     | -     |\n",
    "|   3         | HANKINTAKESKUKSEN| hankinta#keskus| N | N          | Gen Sg Cap   | 4        | attr     | -     | -     |\n",
    "\n",
    "<br><br>\n",
    "I am unsure what those two last columns represents but they are intentionally left blank by the researchers. Also, for some reason the Part of Speech column seems to be duplicated. My assumption is that the second of the columns is meant to be tags for the base word but I did not find any instances where the values of these columns differ.\n",
    "\n",
    "Short description of the other columns:\n",
    "1. Word number: \n",
    " - the index of the word in the sentence (number 1 is first word of a sentence)\n",
    "2. Word:\t           \n",
    " - the actual word\n",
    "3. Base word:       \n",
    " - base form of the word (components of a combination word are separated with character \"_#_\")\n",
    "4. Part of Speech:  \n",
    " - POS tag of the word (Verb, noun, adjective, conjuction, etc.)\n",
    "5. Morphology\n",
    " - Detailed description of the word's morphological structure\n",
    "6. Relation\n",
    " - Relations of the words in the parse tree\n",
    "7. Function\n",
    " - Function of the word in the sentence (subject, object, main, etc.)\n",
    " \n",
    " \n",
    "Next we go deeper how to read the file for our purpose."
   ]
  },
  {
   "cell_type": "markdown",
   "metadata": {},
   "source": [
    "### Structuring the data<a class=\"anchor\" id=\"H4\"></a>\n",
    "First we import pandas for handling the table. We make a similar function as we did before and loop it through to collect the rows and tabulate the data. We also want a column numbering the sentences. We name this as column _Sentence_. \n",
    "\n",
    "In addition, we will remove the last two empty columns and symbol words. "
   ]
  },
  {
   "cell_type": "code",
   "execution_count": 5,
   "metadata": {},
   "outputs": [],
   "source": [
    "import pandas as pd\n",
    "\n",
    "def read_ftb_data(filename, n_sentences=1000):\n",
    "    \n",
    "    columns_list = ['Word', 'Base word', 'Part of Speech', 'Part of Speech, base', 'Morphology', 'Relation', 'Function', '', '']\n",
    "    index =['Sentence', '#']\n",
    "    \n",
    "    column_locs = list(range(len(index+columns_list)))\n",
    "    n_sents, cont = 1, []\n",
    "    with open(filename, 'r', encoding='utf-8') as f_read:\n",
    "        for n, row in enumerate(f_read):\n",
    "            if '<s>' in row or len(row) == 0:\n",
    "                # Sentence source informations\n",
    "                # are not our concern\n",
    "                continue\n",
    "            elif '</s>' in row:\n",
    "                # End of sentence\n",
    "                n_sents += 1\n",
    "                if n_sents == n_sentences:\n",
    "                    break\n",
    "                else:\n",
    "                    continue\n",
    "\n",
    "            # Splitting the row to list\n",
    "            # Adding the sentence numbering,\n",
    "            # appending to the container\n",
    "            # and removing the unneeded columns.\n",
    "            row = row.replace('\\n', '').split('\\t')\n",
    "            row = [n_sents]+row\n",
    "            row = [row[col] for col in column_locs]\n",
    "            cont.append(row)\n",
    "\n",
    "    df = pd.DataFrame(cont, columns=index+columns_list)\n",
    "    df = df.set_index(index)\n",
    "    \n",
    "    # Removing the empty columns\n",
    "    df = df.drop('', axis=1)\n",
    "    # Selecting rows where Part of Speech is not Punct\n",
    "    df = df[df['Part of Speech'] != 'Punct']\n",
    "    return df"
   ]
  },
  {
   "cell_type": "code",
   "execution_count": 6,
   "metadata": {},
   "outputs": [
    {
     "data": {
      "text/html": [
       "<div>\n",
       "<style scoped>\n",
       "    .dataframe tbody tr th:only-of-type {\n",
       "        vertical-align: middle;\n",
       "    }\n",
       "\n",
       "    .dataframe tbody tr th {\n",
       "        vertical-align: top;\n",
       "    }\n",
       "\n",
       "    .dataframe thead th {\n",
       "        text-align: right;\n",
       "    }\n",
       "</style>\n",
       "<table border=\"1\" class=\"dataframe\">\n",
       "  <thead>\n",
       "    <tr style=\"text-align: right;\">\n",
       "      <th></th>\n",
       "      <th></th>\n",
       "      <th>Word</th>\n",
       "      <th>Base word</th>\n",
       "      <th>Part of Speech</th>\n",
       "      <th>Part of Speech, base</th>\n",
       "      <th>Morphology</th>\n",
       "      <th>Relation</th>\n",
       "      <th>Function</th>\n",
       "    </tr>\n",
       "    <tr>\n",
       "      <th>Sentence</th>\n",
       "      <th>#</th>\n",
       "      <th></th>\n",
       "      <th></th>\n",
       "      <th></th>\n",
       "      <th></th>\n",
       "      <th></th>\n",
       "      <th></th>\n",
       "      <th></th>\n",
       "    </tr>\n",
       "  </thead>\n",
       "  <tbody>\n",
       "    <tr>\n",
       "      <th rowspan=\"5\" valign=\"top\">1</th>\n",
       "      <th>1</th>\n",
       "      <td>NEUVOSTO</td>\n",
       "      <td>neuvosto</td>\n",
       "      <td>N</td>\n",
       "      <td>N</td>\n",
       "      <td>N Nom Sg Cap</td>\n",
       "      <td>2</td>\n",
       "      <td>attr</td>\n",
       "    </tr>\n",
       "    <tr>\n",
       "      <th>2</th>\n",
       "      <td>EURATOMIN</td>\n",
       "      <td>Euratom</td>\n",
       "      <td>N</td>\n",
       "      <td>N</td>\n",
       "      <td>N Prop Gen Sg Cap</td>\n",
       "      <td>3</td>\n",
       "      <td>attr</td>\n",
       "    </tr>\n",
       "    <tr>\n",
       "      <th>3</th>\n",
       "      <td>HANKINTAKESKUKSEN</td>\n",
       "      <td>hankinta#keskus</td>\n",
       "      <td>N</td>\n",
       "      <td>N</td>\n",
       "      <td>N Gen Sg Cap</td>\n",
       "      <td>4</td>\n",
       "      <td>attr</td>\n",
       "    </tr>\n",
       "    <tr>\n",
       "      <th>4</th>\n",
       "      <td>PERUSSÄÄNTÖ</td>\n",
       "      <td>perus#sääntö</td>\n",
       "      <td>N</td>\n",
       "      <td>N</td>\n",
       "      <td>N Nom Sg Cap</td>\n",
       "      <td>7</td>\n",
       "      <td>attr</td>\n",
       "    </tr>\n",
       "    <tr>\n",
       "      <th>5</th>\n",
       "      <td>EUROOPAN</td>\n",
       "      <td>Eurooppa</td>\n",
       "      <td>N</td>\n",
       "      <td>N</td>\n",
       "      <td>N Prop Gen Sg Cap</td>\n",
       "      <td>6</td>\n",
       "      <td>attr</td>\n",
       "    </tr>\n",
       "  </tbody>\n",
       "</table>\n",
       "</div>"
      ],
      "text/plain": [
       "                         Word        Base word Part of Speech  \\\n",
       "Sentence #                                                      \n",
       "1        1           NEUVOSTO         neuvosto              N   \n",
       "         2          EURATOMIN          Euratom              N   \n",
       "         3  HANKINTAKESKUKSEN  hankinta#keskus              N   \n",
       "         4        PERUSSÄÄNTÖ     perus#sääntö              N   \n",
       "         5           EUROOPAN         Eurooppa              N   \n",
       "\n",
       "           Part of Speech, base         Morphology Relation Function  \n",
       "Sentence #                                                            \n",
       "1        1                    N       N Nom Sg Cap        2     attr  \n",
       "         2                    N  N Prop Gen Sg Cap        3     attr  \n",
       "         3                    N       N Gen Sg Cap        4     attr  \n",
       "         4                    N       N Nom Sg Cap        7     attr  \n",
       "         5                    N  N Prop Gen Sg Cap        6     attr  "
      ]
     },
     "execution_count": 6,
     "metadata": {},
     "output_type": "execute_result"
    }
   ],
   "source": [
    "df = read_ftb_data(file, 1000000)\n",
    "df.head()"
   ]
  },
  {
   "cell_type": "markdown",
   "metadata": {},
   "source": [
    "Great! Our data looks as we wanted. We can conveniently select a sentence using Pandas' \"loc\" attribute. Let's inspect another sentence:"
   ]
  },
  {
   "cell_type": "code",
   "execution_count": 7,
   "metadata": {
    "scrolled": true
   },
   "outputs": [
    {
     "data": {
      "text/html": [
       "<div>\n",
       "<style scoped>\n",
       "    .dataframe tbody tr th:only-of-type {\n",
       "        vertical-align: middle;\n",
       "    }\n",
       "\n",
       "    .dataframe tbody tr th {\n",
       "        vertical-align: top;\n",
       "    }\n",
       "\n",
       "    .dataframe thead th {\n",
       "        text-align: right;\n",
       "    }\n",
       "</style>\n",
       "<table border=\"1\" class=\"dataframe\">\n",
       "  <thead>\n",
       "    <tr style=\"text-align: right;\">\n",
       "      <th></th>\n",
       "      <th>Word</th>\n",
       "      <th>Base word</th>\n",
       "      <th>Part of Speech</th>\n",
       "      <th>Part of Speech, base</th>\n",
       "      <th>Morphology</th>\n",
       "      <th>Relation</th>\n",
       "      <th>Function</th>\n",
       "    </tr>\n",
       "    <tr>\n",
       "      <th>#</th>\n",
       "      <th></th>\n",
       "      <th></th>\n",
       "      <th></th>\n",
       "      <th></th>\n",
       "      <th></th>\n",
       "      <th></th>\n",
       "      <th></th>\n",
       "    </tr>\n",
       "  </thead>\n",
       "  <tbody>\n",
       "    <tr>\n",
       "      <th>1</th>\n",
       "      <td>Hankintakeskukseen</td>\n",
       "      <td>hankinta#keskus</td>\n",
       "      <td>N</td>\n",
       "      <td>N</td>\n",
       "      <td>N Ill Sg Cap</td>\n",
       "      <td>2</td>\n",
       "      <td>advl</td>\n",
       "    </tr>\n",
       "    <tr>\n",
       "      <th>2</th>\n",
       "      <td>sovelletaan</td>\n",
       "      <td>soveltaa</td>\n",
       "      <td>V</td>\n",
       "      <td>V</td>\n",
       "      <td>V Prs Pass Pe4</td>\n",
       "      <td>0</td>\n",
       "      <td>main</td>\n",
       "    </tr>\n",
       "    <tr>\n",
       "      <th>3</th>\n",
       "      <td>perustamissopimuksen</td>\n",
       "      <td>perustamis#sopimus</td>\n",
       "      <td>N</td>\n",
       "      <td>N</td>\n",
       "      <td>N Gen Sg</td>\n",
       "      <td>7</td>\n",
       "      <td>subj</td>\n",
       "    </tr>\n",
       "    <tr>\n",
       "      <th>4</th>\n",
       "      <td>ja</td>\n",
       "      <td>ja</td>\n",
       "      <td>CC</td>\n",
       "      <td>CC</td>\n",
       "      <td>CC</td>\n",
       "      <td>6</td>\n",
       "      <td>phrm</td>\n",
       "    </tr>\n",
       "    <tr>\n",
       "      <th>5</th>\n",
       "      <td>tämän</td>\n",
       "      <td>tämä</td>\n",
       "      <td>Pron</td>\n",
       "      <td>Pron</td>\n",
       "      <td>Pron Dem Gen Sg</td>\n",
       "      <td>6</td>\n",
       "      <td>attr</td>\n",
       "    </tr>\n",
       "    <tr>\n",
       "      <th>6</th>\n",
       "      <td>perussäännön</td>\n",
       "      <td>perus#sääntö</td>\n",
       "      <td>N</td>\n",
       "      <td>N</td>\n",
       "      <td>N Gen Sg</td>\n",
       "      <td>3</td>\n",
       "      <td>conjunct</td>\n",
       "    </tr>\n",
       "    <tr>\n",
       "      <th>7</th>\n",
       "      <td>määräyksiä</td>\n",
       "      <td>määräys</td>\n",
       "      <td>N</td>\n",
       "      <td>N</td>\n",
       "      <td>N Par Pl DV-US</td>\n",
       "      <td>2</td>\n",
       "      <td>obj</td>\n",
       "    </tr>\n",
       "  </tbody>\n",
       "</table>\n",
       "</div>"
      ],
      "text/plain": [
       "                   Word           Base word Part of Speech  \\\n",
       "#                                                            \n",
       "1    Hankintakeskukseen     hankinta#keskus              N   \n",
       "2           sovelletaan            soveltaa              V   \n",
       "3  perustamissopimuksen  perustamis#sopimus              N   \n",
       "4                    ja                  ja             CC   \n",
       "5                 tämän                tämä           Pron   \n",
       "6          perussäännön        perus#sääntö              N   \n",
       "7            määräyksiä             määräys              N   \n",
       "\n",
       "  Part of Speech, base       Morphology Relation  Function  \n",
       "#                                                           \n",
       "1                    N     N Ill Sg Cap        2      advl  \n",
       "2                    V   V Prs Pass Pe4        0      main  \n",
       "3                    N         N Gen Sg        7      subj  \n",
       "4                   CC               CC        6      phrm  \n",
       "5                 Pron  Pron Dem Gen Sg        6      attr  \n",
       "6                    N         N Gen Sg        3  conjunct  \n",
       "7                    N   N Par Pl DV-US        2       obj  "
      ]
     },
     "execution_count": 7,
     "metadata": {},
     "output_type": "execute_result"
    }
   ],
   "source": [
    "df.loc[5]"
   ]
  },
  {
   "cell_type": "markdown",
   "metadata": {},
   "source": [
    "Now we know the basic structure of the data we have and next we take a closer look what values the data has. We are particularly interested in columns _Word_ and _Part of Speech_. The first one will be our input feature and the latter our output feature."
   ]
  },
  {
   "cell_type": "markdown",
   "metadata": {},
   "source": [
    "### Analysis of Input<a class=\"anchor\" id=\"H5\"></a>\n",
    "\n",
    "Next we inspect the top 10 most frequent words in our data. This can be done using Pandas' value_counts method with integer location (iloc). Then we divide the value counts with count of all of the words so we get a ratio of each word."
   ]
  },
  {
   "cell_type": "code",
   "execution_count": 8,
   "metadata": {
    "scrolled": true
   },
   "outputs": [
    {
     "data": {
      "text/plain": [
       "ja          0.030603\n",
       "on          0.027023\n",
       "tai         0.014947\n",
       "1           0.012485\n",
       "2           0.009101\n",
       "artiklan    0.007672\n",
       "artikla     0.007018\n",
       "ei          0.006259\n",
       "että        0.005904\n",
       "3           0.005648\n",
       "Name: Word, dtype: float64"
      ]
     },
     "execution_count": 8,
     "metadata": {},
     "output_type": "execute_result"
    }
   ],
   "source": [
    "df['Word'].value_counts().iloc[:10] / df.shape[0]"
   ]
  },
  {
   "cell_type": "markdown",
   "metadata": {},
   "source": [
    "The source text is seemingly about legislation as the word \"artikla\" (article) is in two forms on the top 10 most frequent words. The other most frequent words are not as surprising: \"ja\" (and), \"on\" (be/is), \"tai\" (or) and then some numbering with correct order. We might want to remove the numbers as we did with punctuations as numbers can easily be tagged with regular expressions. For this tutorial, we will keep them though.\n",
    "\n",
    "Next we will take a look at our explained variable, Part of speech tags."
   ]
  },
  {
   "cell_type": "markdown",
   "metadata": {},
   "source": [
    "### Analysis of Labels<a class=\"anchor\" id=\"H6\"></a>\n",
    "The part of speech tags are not really self explanatory. Fortunately there is an extensive manual for the tags.\n",
    "\n",
    "Here is a list of the tags:\n",
    "- N: Noun\n",
    "- V: Verb\n",
    "- Num: Number\n",
    "- Pron: Pronoun\n",
    "- A: Adjective\n",
    "- CC: Coordinating Conjunction\n",
    "- PrsPrc: Present Particle\n",
    "- PrfPrc: Past Particle\n",
    "- AgPrc: Agent Particle\n",
    "- Adv: Adverb\n",
    "- CS: Subordinating Conjunction\n",
    "- Abbr: Abbreviation\n",
    "- Interj: Interjection\n",
    "- NON-TLOW: The manual actually says nothing about theses\n",
    "\n",
    "If you like to know the tags more in detail, I recommend reading the manual found with the treebank file: http://www.ling.helsinki.fi/kieliteknologia/tutkimus/treebank/sources/FinnTreeBankManual.pdf\n",
    "\n",
    "But next we will inspect the frequency ratios of each tag to understand the distribution of the our labels:"
   ]
  },
  {
   "cell_type": "code",
   "execution_count": 9,
   "metadata": {},
   "outputs": [
    {
     "data": {
      "text/plain": [
       "N           0.429347\n",
       "V           0.126547\n",
       "Num         0.096863\n",
       "Pron        0.066738\n",
       "A           0.066550\n",
       "CC          0.051028\n",
       "PrfPrc      0.037219\n",
       "Adv         0.033300\n",
       "PrsPrc      0.029489\n",
       "Adp         0.021452\n",
       "CS          0.019817\n",
       "NON-TWOL    0.015222\n",
       "AgPcp       0.003623\n",
       "Abbr        0.002755\n",
       "Interj      0.000051\n",
       "Name: Part of Speech, dtype: float64"
      ]
     },
     "execution_count": 9,
     "metadata": {},
     "output_type": "execute_result"
    }
   ],
   "source": [
    "df['Part of Speech'].value_counts() / df.shape[0]"
   ]
  },
  {
   "cell_type": "markdown",
   "metadata": {},
   "source": [
    "As one could expect, Nouns are the most frequent (43% of all words), followed by verbs (13%) and numbers (10%). If you are familiar with Penn treebank you might realize these tags are somewhat different. You could combine this column with the column _Morphology_ to gain similar tags. Fitting an algorithm with the column _Morphology_ as your labels could easily kill the performance of your model as the column can have over 5 000 different values. For the sake of this tutorial, we will use _Part of Speech_ column as our label feature. \n"
   ]
  },
  {
   "cell_type": "markdown",
   "metadata": {},
   "source": [
    "### Problem Framing<a class=\"anchor\" id=\"H7\"></a>\n",
    "Applying a Machine Learning algorithm directly to the words is not a wise idea. A machine can only tell if two words are exactly identical or not. Making the model memorizing all of the word we have is not really efficient thus we need some feature engineering.\n",
    "\n",
    "Characteristics like the previous word, the next word, the position of the word in the sentence, capitalization, suffixes and prefixes can influence on what tag a word should have. Think about the following example:\n",
    "\n",
    "_I wonder if Patt is making the report._\n",
    "\n",
    " \n",
    "_Wonder_ is a noun but also a verb. In this case it is obviously a verb because the word \"I\" is before it and the word \"if\" is after it. Also, we know that words that ends in _-ing_ are most likely verb with some exceptions (ie. king). Capitalized words are very likely nouns, especially if they are not in the beginning of a sentence. One could construct similar rules also for Finnish words."
   ]
  },
  {
   "attachments": {
    "image.png": {
     "image/png": "[encoded data removed]"
    }
   },
   "cell_type": "markdown",
   "metadata": {},
   "source": [
    "## Modelling<a class=\"anchor\" id=\"H8\"></a>\n",
    "A machine learning pipeline usually consists of one or more transformers and an estimator. Transformers relay the data to the receptors of the estimator and the estimator does the learning and decision making. In our context, we have two transformers: the first one turns the series of words into features of words and the other transforms these set of features into numerical vectors that can be read by the estimator.\n",
    "\n",
    "For our transformer, we could make some transformation functions and apply them before we run the model. However, this approach is not very portable or flexible. The other solution is to make a transformation class which can be piped with the estimator providing extensive portability and support for automated hyper parameter tuning.\n",
    "\n",
    "Our model's pipeline will consist of the following steps:\n",
    "![image.png](attachment:image.png)\n",
    "We must create our own transformer for the orange sections and we will use Scikit Learn's vectorizer and estimator for the green steps. Our output from applying extraction will not be numerical so we need a vectorizer turn this numerical.\n",
    "\n",
    "But before going any step further, it is time to split the data."
   ]
  },
  {
   "cell_type": "markdown",
   "metadata": {},
   "source": [
    "### Splitting the data<a class=\"anchor\" id=\"H9\"></a>\n",
    "We split the data 60%, 20% and 20% to training set, validation set and testing set. Because Sklearn's train_test_split function can split only one data set at a time, we need calculate the second split. The first split is 80:20 as we want 20% left out for testing set and after that we want a ratio that splits the remaining 80% to validation set of 20% and training set of 60%: \n",
    "<br>$split_2*0.80 = 0.20 $ \n",
    "<br>$split_2 = 0.20 / 0.80$ \n",
    "<br>$= 0.25 $\n",
    "\n",
    "There is still one problem. We cannot split the words randomly because the orders of words in a sentence are important for our transformer. We can either first structure the data to sentences and get slightly incorrect split ratios or first transform the data to features and then split by words. However, the latter prevents us from piping the transformer conveniently with the classifier thus we accept the slight inaccuracy of split ratios. This also marginally reduce the randomness in our splits as the words in sentences are not random.\n",
    "\n",
    "We also want to get rid of the index \"_#_\" as the order of words in a sentence is obvious and maintained. In addition, we reduce the data to 2 000 sentences because my laptop is not very resourceful. We do the reduction with random sampling as we cannot be sure that the order of sentences in the file is random."
   ]
  },
  {
   "cell_type": "code",
   "execution_count": 10,
   "metadata": {
    "scrolled": false
   },
   "outputs": [
    {
     "name": "stdout",
     "output_type": "stream",
     "text": [
      "                     Size    Ratio\n",
      "Size of test         5080   18.6 %\n",
      "Size of validation   5616   20.5 %\n",
      "Size of train       16669   60.9 %\n",
      "Total               27365  100.0 %\n"
     ]
    }
   ],
   "source": [
    "from sklearn.model_selection import train_test_split\n",
    "import numpy as np\n",
    "\n",
    "# Setting random states for\n",
    "# reproductability:\n",
    "random_state = 44 \n",
    "np.random.seed(random_state)\n",
    "\n",
    "# Removing the word position index\n",
    "df.index = df.index.droplevel('#')\n",
    "\n",
    "# and reducing the sample size with random sampling\n",
    "random_sample = np.random.choice(df.index.unique(), \n",
    "                                 2000,replace=False)\n",
    "df = df.loc[random_sample]\n",
    "\n",
    "# Now to the actual splitting\n",
    "X, y = df['Word'], df['Part of Speech']\n",
    "\n",
    "train_valid_index, test_index = train_test_split(df.index.unique(), test_size=0.2, random_state=random_state)\n",
    "train_index, valid_index = train_test_split(train_valid_index, test_size=0.25, random_state=random_state)\n",
    "\n",
    "X_test, y_test   = X.loc[test_index],  y.loc[test_index]\n",
    "X_valid, y_valid = X.loc[valid_index], y.loc[valid_index]\n",
    "X_train, y_train = X.loc[train_index], y.loc[train_index]\n",
    "\n",
    "\n",
    "print(\n",
    "    pd.DataFrame([\n",
    "    [y_test.shape[0],  '{:.1f} %'.format(round(y_test.shape[0]/df.shape[0], 3)*100)],\n",
    "    [y_valid.shape[0], '{:.1f} %'.format(round(y_valid.shape[0]/df.shape[0], 3)*100)],\n",
    "    [y_train.shape[0], '{:.1f} %'.format(round(y_train.shape[0]/df.shape[0], 3)*100)],\n",
    "    [df.shape[0], '{:.1f} %'.format(round((y_train.shape[0]+y_valid.shape[0]+y_test.shape[0])/df.shape[0], 3)*100)]\n",
    "    ], \n",
    "    index = ['Size of test','Size of validation','Size of train', 'Total'],\n",
    "    columns = ['Size','Ratio'])\n",
    "     )\n"
   ]
  },
  {
   "cell_type": "markdown",
   "metadata": {},
   "source": [
    "Split ratios seem to be adequate and we move on to make the transformer."
   ]
  },
  {
   "cell_type": "markdown",
   "metadata": {},
   "source": [
    "### Transformation and Feature Engineering<a class=\"anchor\" id=\"H10\"></a>\n",
    "We pick some features from the actual word and some features related to the position of the word in the sentence. We will start with checking if the word is in upper or lower case, is capitalized, has hypend or is number. We also take the last 1, 2 and 3 letters of a word, word's length and the word itself. Finnish words have hypends if they are combination words with same vowels in the intersection (ie. _virka-asia_). Generally prefixes hold little importance in Finnish. From the sentence, we use the information of what was the previous word and what is the next word, and if the word is first or last in the sentence.\n",
    "\n",
    "The transformer is the largest block of code we need to write. We build it as a Python class and inherit BaseEstimator and TransformerMixin from Scikit Learn to make it work as a component of Scikit Learn's pipeline. The most confusing part of the transformer could be that we pass the extraction method's name as an argument and then convert the name to the extraction function itself with built-in function _getattr_. We do so to make the extraction method as a replaceable component but more of this later. This trick keeps the script DRY (Don't repeat yourself)."
   ]
  },
  {
   "cell_type": "code",
   "execution_count": 11,
   "metadata": {},
   "outputs": [],
   "source": [
    "from sklearn.base import BaseEstimator, TransformerMixin\n",
    "\n",
    "\n",
    "\n",
    "class WordFeatureExtractor(BaseEstimator, TransformerMixin):\n",
    "\n",
    "    \n",
    "    def __init__(self, extraction_function='extraction_simple'):\n",
    "        'Transforms pandas series to list of word features'\n",
    "        \n",
    "        # We pass \"extraction_function\" as an argument\n",
    "        # so we can later add new extraction methods\n",
    "        # with means of inheritage\n",
    "        \n",
    "        self.extraction_function = extraction_function\n",
    "        \n",
    "    def fit(self, X, y=None):\n",
    "        \n",
    "        # There is nothing to fit on here but\n",
    "        # Sklearn pipeline requires a fit method\n",
    "        \n",
    "        return self\n",
    "\n",
    "    \n",
    "    def transform(self, X):\n",
    "        'Transform a pandas series of words to list of dictionaries'\n",
    "        \n",
    "        # Next we turn the series to list of words that are in list of sentences\n",
    "        # We use groupby to group the series by sentence, then we turn each sentence\n",
    "        # to list with lambdas (sent.values.tolist()) and finally we turn the whole \n",
    "        # series to list.\n",
    "        X_sents = X.groupby(X.index.names, sort=False).apply(lambda sent: sent.values.tolist()).tolist()\n",
    "        return self._transform_sentences(X_sents)\n",
    "\n",
    "    \n",
    "    def _transform_sentences(self, X):\n",
    "        'Transforms list of sentences to list of dictionaries'\n",
    "        \n",
    "        # The method's name starts with underscore\n",
    "        # to indicate a private method.\n",
    "        # This method relies on the attribute:\n",
    "        # \"extraction_function\"\n",
    "        \n",
    "        X_transformed = []\n",
    "        for sentence in X:\n",
    "            for word_index in range(len(sentence)):\n",
    "                # index is a position of a word\n",
    "                # in a sentence\n",
    "                extractor = getattr(self, self.extraction_function)\n",
    "                x_dict = extractor(sentence, word_index)\n",
    "                # or directly change to \"x_dict = self.extraction_simple(sentence, word_index)\"\n",
    "                \n",
    "                X_transformed.append(x_dict)\n",
    "        return X_transformed\n",
    "\n",
    "\n",
    "    def extraction_simple(self, sentence, index):\n",
    "        return {\n",
    "                'word': sentence[index],\n",
    "                'length': len(sentence[index]),\n",
    "                'has_hyphen': '-' in sentence[index],\n",
    "                'is_first': index == 0,\n",
    "                'is_last': index == len(sentence) - 1,\n",
    "                'is_capitalized': sentence[index].capitalize() == sentence[index],\n",
    "                'is_upper': sentence[index].isupper(),\n",
    "                'is_lower': sentence[index].islower(),\n",
    "                'is_digit': sentence[index].isdigit(),\n",
    "                'suffix_1': sentence[index][-1:],\n",
    "                'suffix_2': sentence[index][-2:],\n",
    "                'suffix_3': sentence[index][-3:],\n",
    "                'prev_word': sentence[index - 1] if index > 0 else '',\n",
    "                'next_word': sentence[index + 1] if index < len(sentence) - 1 else '',\n",
    "                }\n",
    "    "
   ]
  },
  {
   "cell_type": "markdown",
   "metadata": {},
   "source": [
    "Next we test the output of our transformer. We take the the first sentence in training set check how the second word looks like."
   ]
  },
  {
   "cell_type": "code",
   "execution_count": 12,
   "metadata": {},
   "outputs": [
    {
     "data": {
      "text/plain": [
       "{'has_hyphen': False,\n",
       " 'is_capitalized': True,\n",
       " 'is_digit': False,\n",
       " 'is_first': False,\n",
       " 'is_last': False,\n",
       " 'is_lower': False,\n",
       " 'is_upper': False,\n",
       " 'length': 16,\n",
       " 'next_word': 'tarkoitetaan',\n",
       " 'prev_word': '1.1.2.2',\n",
       " 'suffix_1': 'a',\n",
       " 'suffix_2': 'la',\n",
       " 'suffix_3': 'lla',\n",
       " 'word': 'Ohjausvaihteella'}"
      ]
     },
     "execution_count": 12,
     "metadata": {},
     "output_type": "execute_result"
    }
   ],
   "source": [
    "extr = WordFeatureExtractor()\n",
    "extr.transform(X_train.loc[X_train.index[0]])[1]"
   ]
  },
  {
   "cell_type": "markdown",
   "metadata": {},
   "source": [
    "The transformer seems to be working correctly. Next we can set up our pipeline.\n",
    "As our transformer produces list of dictionaries, we need to convert these to numerical matrixes. Fortunately Sklearn has DictVectorizer which handles all of the transformation for us: dict to matrix and strings to dummies. It also remembers the feature names from the fit method in case we want to inspect them later.\n",
    "\n",
    "We are going to use Decision Tree classifier. It is a good choice for the task as it is fast. It is also prone to overfit but it should not be a big deal here: Finnish language is known for lack of exceptions.\n",
    "\n",
    "Lets get to it."
   ]
  },
  {
   "cell_type": "code",
   "execution_count": 13,
   "metadata": {},
   "outputs": [],
   "source": [
    "from sklearn.pipeline import Pipeline\n",
    "from sklearn.tree import DecisionTreeClassifier\n",
    "from sklearn.feature_extraction import DictVectorizer\n",
    "\n",
    "\n",
    "pos_tagger = Pipeline([\n",
    "    ('extractor',WordFeatureExtractor()),\n",
    "    ('vectorizer', DictVectorizer(sparse=False)),\n",
    "    ('classifier', DecisionTreeClassifier(criterion='gini'))\n",
    "    ])\n",
    "\n",
    "pos_tagger.fit(X_train, y_train);"
   ]
  },
  {
   "cell_type": "markdown",
   "metadata": {},
   "source": [
    "Our model is now trained and ready to put on test. "
   ]
  },
  {
   "cell_type": "code",
   "execution_count": 14,
   "metadata": {
    "scrolled": true
   },
   "outputs": [
    {
     "name": "stdout",
     "output_type": "stream",
     "text": [
      "             precision    recall  f1-score   support\n",
      "\n",
      "          A       0.76      0.53      0.63       412\n",
      "       Abbr       0.88      0.88      0.88         8\n",
      "        Adp       0.94      0.92      0.93       126\n",
      "        Adv       0.88      0.90      0.89       164\n",
      "      AgPcp       0.67      0.29      0.40        21\n",
      "         CC       1.00      0.99      0.99       282\n",
      "         CS       1.00      1.00      1.00        94\n",
      "          N       0.88      0.95      0.91      2438\n",
      "   NON-TWOL       0.84      0.50      0.63       101\n",
      "        Num       0.99      0.97      0.98       559\n",
      "     PrfPrc       0.90      0.85      0.87       214\n",
      "       Pron       0.94      0.96      0.95       355\n",
      "     PrsPrc       0.87      0.81      0.84       166\n",
      "          V       0.91      0.92      0.91       676\n",
      "\n",
      "avg / total       0.90      0.90      0.89      5616\n",
      "\n",
      "Accuracy: 90.0%\n"
     ]
    }
   ],
   "source": [
    "from sklearn import metrics\n",
    "y_pred = pos_tagger.predict(X_valid)\n",
    "print(metrics.classification_report(y_valid, y_pred))\n",
    "print('Accuracy: {:.1f}%'.format(round(metrics.accuracy_score(y_valid, y_pred), 3)*100))"
   ]
  },
  {
   "cell_type": "markdown",
   "metadata": {},
   "source": [
    "90% accuracy is not bad at all and percision and recall seem to be somewhat balanced. We care evenly correct classifications, whether it is negative or positive for a class, so there should be little reason to weight recall or percision of a class over the other. Our model does not perform well on agent particles or NON-TWOL most likely because they are somewhat rare but on the other hand coordinating conjunction (CS) it did classify completely correctly even though the class size is small.\n",
    "\n",
    "Next we will go a bit deeper on what the model confuses and gets wrong. We will use confusion matrix for the job"
   ]
  },
  {
   "cell_type": "code",
   "execution_count": 15,
   "metadata": {},
   "outputs": [],
   "source": [
    "import matplotlib.pyplot as plt\n",
    "\n",
    "def plot_confusion(y_true, y_pred):\n",
    "    conf = metrics.confusion_matrix(y_true, y_pred)\n",
    "    conf_norm = conf / conf.sum(axis=1, keepdims=True)\n",
    "    labels = np.unique(np.concatenate((y_true, y_pred), axis=0))\n",
    "    \n",
    "    fig = plt.figure()\n",
    "    ax = fig.add_subplot(111)\n",
    "    cax = ax.matshow(conf_norm, cmap='RdYlGn_r', interpolation='nearest')\n",
    "    fig.colorbar(cax)\n",
    "\n",
    "    ax.set_xticks(np.arange(len(labels)))\n",
    "    ax.set_yticks(np.arange(len(labels)))\n",
    "\n",
    "    ax.set_xticklabels(list(labels), rotation='vertical')\n",
    "    ax.set_yticklabels(list(labels))\n",
    "    ax.set_xlabel('Predicted')\n",
    "    ax.set_ylabel('Actual')\n",
    "    return ax"
   ]
  },
  {
   "cell_type": "code",
   "execution_count": 16,
   "metadata": {},
   "outputs": [
    {
     "data": {
      "image/png": "[encoded data removed]",
      "text/plain": [
       "<matplotlib.figure.Figure at 0x29a52d3cb70>"
      ]
     },
     "metadata": {},
     "output_type": "display_data"
    }
   ],
   "source": [
    "%matplotlib inline\n",
    "# %matplotlib inline is a method of\n",
    "# Jupyter Notebook to embed plots.\n",
    "# Don't copy it to your script.\n",
    "\n",
    "plot_confusion(y_pred, y_valid)\n",
    "plt.show()"
   ]
  },
  {
   "cell_type": "markdown",
   "metadata": {},
   "source": [
    "The confusion matrix plot above is normalized with the actual value (horizontally). For example, agent particles (AgPcp) are clearly confused to nouns (N) and adjectives (A) but about 50% of them are classified right.\n",
    "\n",
    "The imbalance of tags is visible in this plot: The model tags other classes as nouns, which is the largest class, but does not confuse nouns to other classes as easily (the vertical line of N is more colourful than the horizontal line of N). \n",
    "However, the most important observation here is that adjectives, which is fourth larges group and has third worst score, are often confused with nouns."
   ]
  },
  {
   "cell_type": "code",
   "execution_count": 17,
   "metadata": {},
   "outputs": [],
   "source": [
    "def get_example_dict(x, y_pred, y_true):\n",
    "    '''Returns a dictionary with examples\n",
    "    Structure : {True values: {Predicted values: [List of examples]}}'''\n",
    "    \n",
    "    x = np.array(x)\n",
    "    y_true = np.array(y_true)\n",
    "    y_pred = np.array(y_pred)\n",
    "    labels = np.unique(np.concatenate((y_true, y_pred), axis=0))\n",
    "    examples = {true_label:{pred_label:[] for pred_label in labels} for true_label in labels}\n",
    "    for index in range(len(y_true)):\n",
    "        examples[y_true[index]][y_pred[index]].append(x[index])\n",
    "    return examples"
   ]
  },
  {
   "cell_type": "code",
   "execution_count": 18,
   "metadata": {},
   "outputs": [
    {
     "data": {
      "text/plain": [
       "['mukainen',\n",
       " 'myönnettävistä',\n",
       " 'tavanomaisen',\n",
       " 'mittanormaalia',\n",
       " 'ETY-mittanormaalia']"
      ]
     },
     "execution_count": 18,
     "metadata": {},
     "output_type": "execute_result"
    }
   ],
   "source": [
    "get_example_dict(X_valid, y_pred, y_valid)['A']['N'][:5]"
   ]
  },
  {
   "cell_type": "markdown",
   "metadata": {},
   "source": [
    "The above five words are examples of words that were mistaken as nouns even though they are adjectives. I won't go details what these words mean but in Finnish the lengths of the words above resemble typical noun and the last three letters could easily exist in a noun. My hypothesis is that those words are incorrectly classified due to that the last three letters at the end are not enough to distinguish the difference.\n",
    "\n",
    "An easy solution would be to add just more letters to the suffix features. However, as I was digging deeper to the problem I got a better idea: in Finnish, syllables play significant role. Syllables are usually about three letter strings that make up the words. I don't know how it works in English but in Finnish you could divide word such as \"myönnettävistä\" to the following syllables \"myön-net-tä-vis-tä\". Together those last two syllables are very hard to confuse with nouns or any other PoS tags. Coming up with a proper syllable splitter involved getting my hands on The Dictionary of Modern Finnish and playing awhile with regular expressions.\n",
    "\n",
    "I found out that a syllable ends to:\n",
    "<br> A) consonant, that is not the last letter in a way that next syllable starts one and only one consonant,\n",
    "<br> B) third vowel if there are more than two sequential vowels or\n",
    "<br> C) second vowel in a sequence of two vowels in some rarer cases for an unknown reason  \n",
    "\n",
    "After experimenting with regular expressions, I came up with the following string:\n",
    "[bcdfghjklmnpqrstvxzw]?[aeiouyäö]{1,2}(?:(?=[aeiouyäö])|[bcdfghjklmnpqrstvxzw]{0,2}$|[bcdfghjklmnpqrstvxzw]{0,3}(?=[-bcdfghjklmnpqrstvxzw]))\n",
    "\n",
    "<br> To break this down:\n",
    "1. [bcdfghjklmnpqrstvxzw]? means that the syllable can start with a consonant or without (qualifier \"_?_\")\n",
    "2. Then the syllable can have one or two vowels: [aeiouyäö]{1,2}\n",
    "2. And then the syllable either end\n",
    "<br> to third vowel without capturing it: (?=[aeiouyäö]), or \n",
    "<br> to consontants that are at the end of the word: [bcdfghjklmnpqrstvxzw]{0,2}$, or\n",
    "<br> to the second last consonant in sequential consonants: [bcdfghjklmnpqrstvxzw]{0,3}(?=[-bcdfghjklmnpqrstvxzw]\n",
    "\n",
    "Next we try this out:"
   ]
  },
  {
   "cell_type": "code",
   "execution_count": 19,
   "metadata": {},
   "outputs": [
    {
     "data": {
      "text/plain": [
       "['myön', 'net', 'tä', 'vis', 'tä']"
      ]
     },
     "execution_count": 19,
     "metadata": {},
     "output_type": "execute_result"
    }
   ],
   "source": [
    "import re\n",
    "re.findall(('[bcdfghjklmnpqrstvxzw]?[aeiouyäö]{1,2}(?:(?='\n",
    "            '[aeiouyäö])'\n",
    "            '|[bcdfghjklmnpqrstvxzw]{0,2}$'\n",
    "            '|[bcdfghjklmnpqrstvxzw]{0,3}(?=[-bcdfghjklmnpqrstvxzw]))'),\n",
    "           'myönnettävistä')"
   ]
  },
  {
   "cell_type": "markdown",
   "metadata": {},
   "source": [
    "It works as we expected. Now we just need to apply this to our extractor. Because copy-pasting code is ugly, we just make an advanced feature transformer that inherits all the other methods of the original transformer."
   ]
  },
  {
   "cell_type": "code",
   "execution_count": 20,
   "metadata": {},
   "outputs": [],
   "source": [
    "class WordFeatureExtractorExtended(WordFeatureExtractor):\n",
    "    \n",
    "    # We set the regular expression by putting the vowels and\n",
    "    # consonants with .format method. This way it is slightly\n",
    "    # more readable but note the double curly brackets in the \n",
    "    # numerical qualifiers. The doubles do get removed by itself.\n",
    "    \n",
    "    syllable_expr = r'[{con}]?[{vow}]{{1,2}}(?:(?=[{vow}])|[{con}]{{0,2}}$|[{con}]{{0,3}}(?=[-{con}]))'.format(\n",
    "        con='bcdfghjklmnpqrstvxzw', vow='aeiouyäö')\n",
    "        \n",
    "    \n",
    "    def extraction_complex(self, sentence, index):\n",
    "        'Extract word features with syllables'\n",
    "        \n",
    "        # We normalize the word (turn lower case) \n",
    "        # as I don't think capitalization \n",
    "        # plays a role here.\n",
    "        word_normalized = sentence[index].lower()\n",
    "        \n",
    "        # Split the word according to the syllables\n",
    "        splitted = re.findall(\n",
    "            self.syllable_expr, word_normalized)\n",
    "        \n",
    "        # We also take the last syllable in the previous \n",
    "        # and in next word\n",
    "        splitted_prev = '' if index == 0 else re.findall(\n",
    "            self.syllable_expr, sentence[index-1])\n",
    "\n",
    "        splitted_next = '' if index == len(sentence) - 1 else re.findall(\n",
    "            self.syllable_expr, sentence[index+1])\n",
    "        \n",
    "        return {\n",
    "                'word': sentence[index],\n",
    "                'length': len(sentence[index]),\n",
    "                'is_first': index == 0,\n",
    "                'is_last': index == len(sentence) - 1,\n",
    "                'is_upper': sentence[index].isupper(),\n",
    "                'is_lower': sentence[index].islower(),\n",
    "                'is_digit': sentence[index].isdigit(),\n",
    "                'is_capitalized': sentence[index].capitalize() == sentence[index],\n",
    "                'suffix_1': splitted[-1] if len(splitted) > 1 else '',\n",
    "                'suffix_2': splitted[-2] if len(splitted) > 2 else '',\n",
    "                'suffix_3': splitted[-3] if len(splitted) > 3 else '',\n",
    "                'prev_word_suffix': splitted_prev[-1] if len(splitted_prev) > 0 else '',\n",
    "                'next_word_suffix': splitted_next[-1] if len(splitted_next) > 0 else '',\n",
    "                'has_hyphen': '-' in sentence[index]\n",
    "                }\n",
    "\n",
    "    "
   ]
  },
  {
   "cell_type": "markdown",
   "metadata": {},
   "source": [
    "Some might argue that we made the code unnecessarily complicated with the _getattr_ trick. In fact, we could have avoided using the function by overriding the original extractor. This is simply done by naming the new method in the new class with the same name as it is in the parent class (in this case WordFeatureExtractor). However, doing so prevents testing multiple extraction methods with grid search or with other automatic hyper parameter tuning tools as they allow changing only the arguments in the initiation (considered as hyper parameters in this context). On the other hand, you probably should just use one class containing all of your extraction methods instead of using inheritage as we did here. The only reason we used inheritage was to keep this guide clean and easier to follow."
   ]
  },
  {
   "cell_type": "markdown",
   "metadata": {},
   "source": [
    "But now to test the updated model:"
   ]
  },
  {
   "cell_type": "code",
   "execution_count": 21,
   "metadata": {},
   "outputs": [
    {
     "data": {
      "text/plain": [
       "{'has_hyphen': False,\n",
       " 'is_capitalized': True,\n",
       " 'is_digit': False,\n",
       " 'is_first': False,\n",
       " 'is_last': False,\n",
       " 'is_lower': False,\n",
       " 'is_upper': False,\n",
       " 'length': 16,\n",
       " 'next_word_suffix': 'taan',\n",
       " 'prev_word_suffix': '',\n",
       " 'suffix_1': 'la',\n",
       " 'suffix_2': 'teel',\n",
       " 'suffix_3': 'vaih',\n",
       " 'word': 'Ohjausvaihteella'}"
      ]
     },
     "execution_count": 21,
     "metadata": {},
     "output_type": "execute_result"
    }
   ],
   "source": [
    "extr = WordFeatureExtractorExtended(extraction_function='extraction_complex')\n",
    "extr.transform(X_train.loc[X_train.index[0]])[1]"
   ]
  },
  {
   "cell_type": "markdown",
   "metadata": {},
   "source": [
    "Works great. Now just update the pipeline, fit it and predict the validation set just as before."
   ]
  },
  {
   "cell_type": "code",
   "execution_count": 22,
   "metadata": {},
   "outputs": [],
   "source": [
    "pos_tagger_adv = Pipeline([\n",
    "    ('extractor',WordFeatureExtractorExtended(extraction_function='extraction_complex')),\n",
    "    ('vectorizer', DictVectorizer(sparse=False)),\n",
    "    ('classifier', DecisionTreeClassifier(criterion='gini'))\n",
    "    ])\n",
    "\n",
    "pos_tagger_adv.fit(X_train, y_train);"
   ]
  },
  {
   "cell_type": "code",
   "execution_count": 23,
   "metadata": {},
   "outputs": [
    {
     "name": "stdout",
     "output_type": "stream",
     "text": [
      "             precision    recall  f1-score   support\n",
      "\n",
      "          A       0.87      0.74      0.80       412\n",
      "       Abbr       0.55      0.75      0.63         8\n",
      "        Adp       0.94      0.94      0.94       126\n",
      "        Adv       0.85      0.90      0.88       164\n",
      "      AgPcp       0.35      0.33      0.34        21\n",
      "         CC       1.00      0.99      1.00       282\n",
      "         CS       0.99      1.00      0.99        94\n",
      "          N       0.90      0.95      0.93      2438\n",
      "   NON-TWOL       0.78      0.38      0.51       101\n",
      "        Num       0.97      0.98      0.98       559\n",
      "     PrfPrc       0.87      0.90      0.88       214\n",
      "       Pron       0.94      0.95      0.94       355\n",
      "     PrsPrc       0.91      0.83      0.87       166\n",
      "          V       0.93      0.90      0.92       676\n",
      "\n",
      "avg / total       0.91      0.91      0.91      5616\n",
      "\n",
      "Accuracy: 91.5%\n"
     ]
    }
   ],
   "source": [
    "y_pred = pos_tagger_adv.predict(X_valid)\n",
    "print(metrics.classification_report(y_valid, y_pred))\n",
    "print('Accuracy: {:.1f}%'.format(round(metrics.accuracy_score(y_valid, y_pred), 3)*100))"
   ]
  },
  {
   "cell_type": "markdown",
   "metadata": {},
   "source": [
    "See the difference? We increased precision of adjectives about 0.11 and recall about 0.21. This means that the model is now more eager to classify words to adjectives (recall) and at the same time classifies fewer non adjectives as adjectves (precision). Also, accuracy rose 1.5% which is something."
   ]
  },
  {
   "cell_type": "markdown",
   "metadata": {},
   "source": [
    "## Final Evaluation and Conclusion<a class=\"anchor\" id=\"H11\"></a>\n",
    "We could increase the accuracy with similar tricks we did endlessly but the model is already adequate. You could, for example, make the model recursive meaning that you fit the model also using the tags from previous words and predict the first words per sentence, then add the predictions to the next words' features and predict the tag of that word and so on. You could also try different algorithms or remove or add new features. However, small increases of accuracy many times require expontentially complex and resource intensive models. \n",
    "\n",
    "Next we just get the final accuracy scores from the test set. We did not take many steps in our validation phase but we had too much data not to spend on untouched test set."
   ]
  },
  {
   "cell_type": "code",
   "execution_count": 24,
   "metadata": {
    "scrolled": true
   },
   "outputs": [
    {
     "name": "stdout",
     "output_type": "stream",
     "text": [
      "Final Score\n",
      "             precision    recall  f1-score   support\n",
      "\n",
      "          A       0.87      0.73      0.79       345\n",
      "       Abbr       0.72      0.81      0.76        16\n",
      "        Adp       0.95      0.91      0.93       109\n",
      "        Adv       0.89      0.84      0.86       158\n",
      "      AgPcp       0.44      0.29      0.35        14\n",
      "         CC       1.00      1.00      1.00       265\n",
      "         CS       1.00      0.97      0.99       115\n",
      "          N       0.89      0.95      0.92      2132\n",
      "   NON-TWOL       0.43      0.16      0.24        61\n",
      "        Num       0.98      0.98      0.98       523\n",
      "     PrfPrc       0.84      0.84      0.84       186\n",
      "       Pron       0.92      0.93      0.93       334\n",
      "     PrsPrc       0.96      0.84      0.89       160\n",
      "          V       0.91      0.89      0.90       662\n",
      "\n",
      "avg / total       0.91      0.91      0.91      5080\n",
      "\n",
      "Accuracy: 91.0%\n"
     ]
    }
   ],
   "source": [
    "y_pred = pos_tagger_adv.predict(X_test)\n",
    "print('Final Score')\n",
    "print(metrics.classification_report(y_test, y_pred))\n",
    "print('Accuracy: {:.1f}%'.format(round(metrics.accuracy_score(y_test, y_pred), 3)*100))"
   ]
  },
  {
   "cell_type": "markdown",
   "metadata": {},
   "source": [
    "The accuracy score is fine and the model is ready for production. You can save the model on your disk with pickle or joblib to use it later or in another script. Also, depending on the structure of your to-be-tagged data, you may want to bypass the series to list section in the transform method. This can be done with simple checking of the data type (ie. \"_if isinstance(X, pd.Series):_\") or using a setter and an _if_ statement. \n",
    "\n"
   ]
  },
  {
   "cell_type": "code",
   "execution_count": 25,
   "metadata": {},
   "outputs": [
    {
     "name": "stdout",
     "output_type": "stream",
     "text": [
      "Memory of the first model:  1312174 bytes.\n",
      "Memory of the second model: 845743 bytes.\n",
      "Memory consumption change:  -36.0%\n"
     ]
    }
   ],
   "source": [
    "import pickle\n",
    "import sys\n",
    "mdl_1 = pickle.dumps(pos_tagger)\n",
    "mdl_2 = pickle.dumps(pos_tagger_adv)\n",
    "\n",
    "mdl_1_memory = sys.getsizeof(mdl_1)\n",
    "mdl_2_memory = sys.getsizeof(mdl_2)\n",
    "print('Memory of the first model:  {} bytes.'.format(mdl_1_memory))\n",
    "print('Memory of the second model: {} bytes.'.format(mdl_2_memory))\n",
    "print('Memory consumption change:  {:.1f}%'.format(round((mdl_2_memory-mdl_1_memory)/mdl_1_memory*100),1))"
   ]
  },
  {
   "cell_type": "markdown",
   "metadata": {},
   "source": [
    "With some clever diagnosis of the problem we even managed to reduce the memory consumption of our model over one third! It is cruicial to know the specifics of the language you are dealing with and adjust the features according to it. Your estimator can never outperform the features you feed it with. But can you do better than this model? Try and mess with the code."
   ]
  },
  {
   "cell_type": "markdown",
   "metadata": {},
   "source": [
    "I hope you enjoyed reading this tutorial as much as I enjoyed writing it. You can get my current version of the tagger from my Github: https://github.com/Miksus/Syntags\n",
    "\n",
    "In case you liked my guide and you have opportunities for me, please contact me via email: koli.mikael@gmail.com"
   ]
  }
 ],
 "metadata": {
  "kernelspec": {
   "display_name": "Python 3",
   "language": "python",
   "name": "python3"
  },
  "language_info": {
   "codemirror_mode": {
    "name": "ipython",
    "version": 3
   },
   "file_extension": ".py",
   "mimetype": "text/x-python",
   "name": "python",
   "nbconvert_exporter": "python",
   "pygments_lexer": "ipython3",
   "version": "3.6.5"
  }
 },
 "nbformat": 4,
 "nbformat_minor": 2
}
